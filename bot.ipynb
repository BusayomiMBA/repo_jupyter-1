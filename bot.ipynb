{
 "cells": [
  {
   "cell_type": "code",
   "execution_count": 1,
   "id": "amber-grammar",
   "metadata": {},
   "outputs": [],
   "source": [
    "#Imports\n",
    "from selenium import webdriver\n",
    "import time, requests\n",
    "from keys import username, password"
   ]
  },
  {
   "cell_type": "code",
   "execution_count": 2,
   "id": "nonprofit-gregory",
   "metadata": {},
   "outputs": [],
   "source": [
    "driver = webdriver.Chrome('/Users/busayomiolayiwola/Downloads/chromedriver')"
   ]
  },
  {
   "cell_type": "code",
   "execution_count": null,
   "id": "modified-greene",
   "metadata": {},
   "outputs": [],
   "source": [
    "# close chrome\n",
    "# driver.close()"
   ]
  },
  {
   "cell_type": "code",
   "execution_count": 3,
   "id": "sonic-albert",
   "metadata": {},
   "outputs": [],
   "source": [
    "driver.get('https://github.com')"
   ]
  },
  {
   "cell_type": "code",
   "execution_count": 4,
   "id": "fluid-trademark",
   "metadata": {},
   "outputs": [
    {
     "data": {
      "text/plain": [
       "'bsayomi.olayiwola8@gmail.com'"
      ]
     },
     "execution_count": 4,
     "metadata": {},
     "output_type": "execute_result"
    }
   ],
   "source": [
    "username"
   ]
  },
  {
   "cell_type": "code",
   "execution_count": 6,
   "id": "governmental-flour",
   "metadata": {},
   "outputs": [],
   "source": [
    "driver.find_element_by_xpath('/html/body/div[1]/header/div/div[2]/div[2]/a[1]').click()"
   ]
  },
  {
   "cell_type": "code",
   "execution_count": 7,
   "id": "opponent-coach",
   "metadata": {},
   "outputs": [],
   "source": [
    "# login\n",
    "driver.find_element_by_xpath('//*[@id=\"login_field\"]').send_keys(username)\n",
    "# time.sleep(1)\n",
    "driver.find_element_by_xpath('//*[@id=\"password\"]').send_keys(password)\n",
    "# time.sleep(2)\n",
    "# click sign in button\n",
    "driver.find_element_by_xpath('//*[@id=\"login\"]/div[4]/form/div/input[12]').click()"
   ]
  },
  {
   "cell_type": "code",
   "execution_count": 8,
   "id": "purple-original",
   "metadata": {},
   "outputs": [],
   "source": [
    "driver.find_element_by_xpath('//*[@id=\"repos-container\"]/h2/a').click()"
   ]
  },
  {
   "cell_type": "code",
   "execution_count": 9,
   "id": "protected-concept",
   "metadata": {},
   "outputs": [],
   "source": [
    "driver.find_element_by_xpath('//*[@id=\"repository_name\"]').send_keys('repo_jupyter-1')"
   ]
  },
  {
   "cell_type": "code",
   "execution_count": 10,
   "id": "homeless-coffee",
   "metadata": {},
   "outputs": [],
   "source": [
    "driver.find_element_by_xpath('//*[@id=\"repository_auto_init\"]').click()"
   ]
  },
  {
   "cell_type": "code",
   "execution_count": 11,
   "id": "global-journalism",
   "metadata": {},
   "outputs": [],
   "source": [
    "driver.find_element_by_xpath('//*[@id=\"new_repository\"]/div[6]/button').click()"
   ]
  },
  {
   "cell_type": "code",
   "execution_count": null,
   "id": "activated-poker",
   "metadata": {},
   "outputs": [],
   "source": []
  }
 ],
 "metadata": {
  "kernelspec": {
   "display_name": "Python 3",
   "language": "python",
   "name": "python3"
  },
  "language_info": {
   "codemirror_mode": {
    "name": "ipython",
    "version": 3
   },
   "file_extension": ".py",
   "mimetype": "text/x-python",
   "name": "python",
   "nbconvert_exporter": "python",
   "pygments_lexer": "ipython3",
   "version": "3.9.2"
  }
 },
 "nbformat": 4,
 "nbformat_minor": 5
}
